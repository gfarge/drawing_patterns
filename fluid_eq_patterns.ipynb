{
 "cells": [
  {
   "cell_type": "markdown",
   "metadata": {},
   "source": [
    "![Fluid-generated seismicity patterns.]<"
   ]
  },
  {
   "cell_type": "markdown",
   "metadata": {},
   "source": [
    "# Animating the interplay of fluid circulation and seismicity in a subduction zone\n",
    "\n",
    "*Date: 5th June 2020*\n",
    "\n",
    "### As a foreword\n",
    "\n",
    "This notebook allows you to animate a simulation of fluid diffusing in a fault zone, activating earthquake sources, modeled as valves. \n",
    "\n",
    "In our model, a valve represents inhomogeneities of permeability in the fault zone. They partly block the diffusion of fluid, but break open when submitted to high fluid pressures, producing a small earthquake. When the fluid flux around the valve comes back to base levels, the valve closes again, and the cycle goes on. The fundationnal ideas of the model are published in [this article](http://www.ipgp.jussieu.fr/~nshapiro/PUBLICATIONS/Shapiro_etal_GRL2018.pdf).\n",
    "\n",
    "This allows us to model the interaction of elementary seismic sources uniquely through fluid interactions. From this simple physics, complex patterns of seismicity emerge. It reproduces the periodicity of activity observed in certain subduction zones and migrations of the seismic activity along the fault zone. \n",
    "\n",
    "This is work in progress! It is part of my PhD, and a publication is being written on it, but please do not hesitate to reach out for questions and comments, on the scientific or animation part. In any case, I hope you have fun playing with it, and can draw inspirations from whatever excites you in there.\n",
    "\n",
    "Please don't hesitate to use this notebook and produced animations, to share it, and modify it for your own purpose, but be sure to mention where it comes from!\n",
    "\n",
    "### A few words on the data we use here...\n",
    "\n",
    "As this is solely simulation, all data that is used is purely synthetic, the product of a simulation of pore pressure diffusion in the system described above. For storage purposes, we drastically downsampled the data to the time steps that are used in each frames. The code works with this structure, but should be slightly adapted if a denser time series is used.\n",
    "\n",
    "###  About me:\n",
    "\n",
    "I am Gaspard Farge, PhD student in seismology and geological fluid dynamics at Institut de Physique du Globe de Paris. You can check out my research and other projects either on my [ResearchGate page](https://www.researchgate.net/profile/Gaspard_Farge), or on my [website](https://gfarge.github.io/) (rarely updated...). Feel free to contact me via email : farge@ipgp.fr.\n",
    "\n",
    "---"
   ]
  },
  {
   "cell_type": "markdown",
   "metadata": {},
   "source": [
    "## /// Import and paths"
   ]
  },
  {
   "cell_type": "code",
   "execution_count": 1,
   "metadata": {
    "code_folding": [
     0
    ]
   },
   "outputs": [],
   "source": [
    "# General libraries \n",
    "# =================\n",
    "import numpy as np\n",
    "import pickle\n",
    "import copy\n",
    "import time\n",
    "import sys\n",
    "\n",
    "# Graphics libraries\n",
    "# ==================\n",
    "import matplotlib as mpl\n",
    "%matplotlib notebook\n",
    "import matplotlib.pyplot as plt\n",
    "from matplotlib.ticker import (AutoMinorLocator, FixedLocator, FixedFormatter)\n",
    "from matplotlib.patches import Rectangle\n",
    "from matplotlib.collections import PatchCollection\n",
    "\n",
    "\n",
    "# Animation libraries\n",
    "# -------------------\n",
    "import matplotlib.animation as animation\n",
    "from matplotlib.animation import ArtistAnimation\n",
    "plt.rcParams['animation.ffmpeg_path'] ='/usr/local/bin/ffmpeg'  # your path to ffmpeg binary\n",
    "# --> Used for display within notebook\n",
    "import base64\n",
    "import io\n",
    "from matplotlib import rc\n",
    "rc('animation', html='html5')\n",
    "from IPython.display import HTML # used to display animation in notebook\n",
    "\n",
    "# My modules\n",
    "# ==========\n",
    "#sys.path.append('/Users/farge/work/py_modules/PPvalves/')\n",
    "#import PPvalves.simulation as ppv\n",
    "#import PPvalves.catalog as cat\n",
    "#import PPvalves.utility as util\n",
    "\n",
    "# Paths\n",
    "# =====\n",
    "in_dir = './data/'\n",
    "anim_out_dir = './out/'"
   ]
  },
  {
   "cell_type": "markdown",
   "metadata": {},
   "source": [
    "## /// Load data"
   ]
  },
  {
   "cell_type": "code",
   "execution_count": 2,
   "metadata": {
    "code_folding": [
     0
    ]
   },
   "outputs": [],
   "source": [
    "# Paths\n",
    "# =====\n",
    "PARAM_file = in_dir + 'PARAM.pkl'\n",
    "VALVES_file = in_dir + 'VALVES.pkl'\n",
    "mass_file = in_dir + 'mass.npy'\n",
    "v_states_file = in_dir + 'v_states.npy'\n",
    "catalog_file = in_dir + 'catalog.npy'"
   ]
  },
  {
   "cell_type": "code",
   "execution_count": 3,
   "metadata": {
    "code_folding": [
     0
    ]
   },
   "outputs": [
    {
     "name": "stdout",
     "output_type": "stream",
     "text": [
      "Physical parameters of the system are stored in the PARAM dictionnary.\n",
      "In there, you can find the following entries:\n",
      "\n",
      "dict_keys(['h', 'dt', 'Nx', 'Nt', 'Z0', 'X_scale', 'T_scale', 'Z_scale'])\n"
     ]
    }
   ],
   "source": [
    "# Load a few physical parameters of the simulation\n",
    "# ================================================\n",
    "PARAM = pickle.load(open(PARAM_file, 'rb'))\n",
    "print('Physical parameters of the system are stored in the PARAM dictionnary.')\n",
    "print('In there, you can find the following entries:\\n\\n{:}'.format(PARAM.keys()))\n",
    "\n",
    "# Define a few variables that will be useful\n",
    "# ==========================================\n",
    "X = np.linspace(0, PARAM['Nx']*PARAM['h'], PARAM['Nx']+1)  # space array"
   ]
  },
  {
   "cell_type": "code",
   "execution_count": 4,
   "metadata": {
    "code_folding": [
     0
    ]
   },
   "outputs": [
    {
     "name": "stdout",
     "output_type": "stream",
     "text": [
      "Valve properties are defined in the VALVES dictionnary.\n",
      "In there, you can find the following entries:\n",
      "\n",
      "dict_keys(['idx', 'width'])\n"
     ]
    }
   ],
   "source": [
    "# Load valve properties\n",
    "# =====================\n",
    "VALVES = pickle.load(open(VALVES_file, 'rb'))\n",
    "print('Valve properties are defined in the VALVES dictionnary.')\n",
    "print('In there, you can find the following entries:\\n\\n{:}'.format(VALVES.keys()))"
   ]
  },
  {
   "cell_type": "code",
   "execution_count": 5,
   "metadata": {
    "code_folding": [
     0
    ]
   },
   "outputs": [
    {
     "name": "stdout",
     "output_type": "stream",
     "text": [
      "The mass array contains the mass of fluid at each point of the domain, in time.\n",
      "First dimension corresponds to time, second dimension to space.\n",
      "\n",
      "Its shape: (1521, 501)\n"
     ]
    }
   ],
   "source": [
    "# Load mass distribution in time/space\n",
    "# ====================================\n",
    "mass = np.load(mass_file)\n",
    "print('The mass array contains the mass of fluid at each point of the domain, in time.')\n",
    "print('First dimension corresponds to time, second dimension to space.')\n",
    "print('\\nIts shape: {:}'.format(np.shape(mass)))"
   ]
  },
  {
   "cell_type": "code",
   "execution_count": 6,
   "metadata": {
    "code_folding": [
     0
    ]
   },
   "outputs": [
    {
     "name": "stdout",
     "output_type": "stream",
     "text": [
      "The whole simulation contains 12678 events.\n",
      "Their detection time are stored in t_event, their location are stored in x_event.\n"
     ]
    }
   ],
   "source": [
    "# Load all events in simulation (we will only use a few)\n",
    "# ======================================================\n",
    "catalog = np.load(catalog_file)\n",
    "t_events = catalog[:, 0]  # event detection time\n",
    "x_events = catalog[:, 1]  # location of event\n",
    "\n",
    "print('The whole simulation contains {:} events.'.format(len(t_events)))\n",
    "print('Their detection time are stored in t_event, their location are stored in x_event.')"
   ]
  },
  {
   "cell_type": "code",
   "execution_count": 7,
   "metadata": {
    "code_folding": [
     0
    ]
   },
   "outputs": [
    {
     "name": "stdout",
     "output_type": "stream",
     "text": [
      "The opening/closing state of valves during the simulation is described by v_states\n",
      "\n",
      "v_states shape : N_times * N_valves: (1521, 29)\n",
      "\n",
      "First dimension corresponds to time, last dimension to each valve.\n",
      "Valve state is encoded as follows : 1 is open, 0 is closed\n"
     ]
    }
   ],
   "source": [
    "# Load valve states\n",
    "# =================\n",
    "v_states = np.load(v_states_file)\n",
    "print('The opening/closing state of valves during the simulation is described by v_states')\n",
    "print('\\nv_states shape : N_times * N_valves: {:}'.format(np.shape(v_states)))\n",
    "print('\\nFirst dimension corresponds to time, last dimension to each valve.')\n",
    "print('Valve state is encoded as follows : 1 is open, 0 is closed')"
   ]
  },
  {
   "cell_type": "markdown",
   "metadata": {},
   "source": [
    "## /// Make a valve class"
   ]
  },
  {
   "cell_type": "code",
   "execution_count": 8,
   "metadata": {
    "code_folding": [
     0
    ]
   },
   "outputs": [],
   "source": [
    "# A class for valves graphical representation\n",
    "# ===========================================\n",
    "class valve(object):\n",
    "    \"\"\"The valve object\"\"\"\n",
    "    \n",
    "    def __init__(self, idx, idx_width, state):\n",
    "        \"\"\"Constructor function.\n",
    "        Parameters\n",
    "        ----------\n",
    "        idx : int\n",
    "            X index of valve start.\n",
    "        idx_width : int\n",
    "            X index of valve end.\n",
    "        state : bool\n",
    "            True if valve is open, False is valve is closed.\n",
    "     \n",
    "        \"\"\"\n",
    "        self.idx = [idx, idx + idx_width]\n",
    "        self.open = state\n",
    "        self.breaking = False\n",
    "        self.set_color()\n",
    "        \n",
    "    \n",
    "    def set_color(self):\n",
    "        \"\"\"Computes the alpha value for the valve patch (0 = fully transparent)\"\"\"\n",
    "        if self.open:\n",
    "            if self.breaking:\n",
    "                self.color = 0.99\n",
    "            else:\n",
    "                self.color = 0.15\n",
    "        else:\n",
    "            self.color = 0.5\n",
    "                \n",
    "            \n",
    "def build_valves(VALVES, v_state_0, PARAM):\n",
    "    \"\"\"\n",
    "    Building a list of valve objects for all our valves.\n",
    "    \n",
    "    Parameters\n",
    "    ----------\n",
    "    VALVES : dict.\n",
    "        Dictionnary of valve properties. In data.\n",
    "    v_state_0 : 1d array.\n",
    "        1d array describing valve initial state, dimension = N_valves.\n",
    "    PARAM : dict\n",
    "        Physical parameters dictionnary.\n",
    "    \n",
    "    Returns\n",
    "    -------\n",
    "    Valves : list of valve objects\n",
    "    \"\"\"\n",
    "    Valves = []\n",
    "    for iv in range(len(VALVES['idx'])):\n",
    "        va = valve(VALVES['idx'][iv], \\\n",
    "                  int(VALVES['width'][iv]/PARAM['h']), \\\n",
    "                  bool(v_state_0[iv]))\n",
    "                   \n",
    "        Valves.append(va)\n",
    "                   \n",
    "    return Valves"
   ]
  },
  {
   "cell_type": "markdown",
   "metadata": {},
   "source": [
    "## /// Make an event class"
   ]
  },
  {
   "cell_type": "code",
   "execution_count": 9,
   "metadata": {
    "code_folding": [
     0
    ]
   },
   "outputs": [],
   "source": [
    "# A class for events graphical representation \n",
    "# ===========================================\n",
    "class event(object):\n",
    "    \"\"\"Event dots class\"\"\"\n",
    "    \n",
    "    def __init__(self, t, x, valve_w):\n",
    "        \"\"\"\n",
    "        Constructor.\n",
    "        \n",
    "        Parameters\n",
    "        ----------\n",
    "        t : float\n",
    "            Event time.\n",
    "        x : float\n",
    "            Event X.\n",
    "        valve_w : float\n",
    "            Width of valve that created event.\n",
    "        \"\"\"\n",
    "        self.fade = 0  # Level of fading after activation of event\n",
    "        self.t = t  # Event detection/activation time\n",
    "        self.x = x + valve_w/2  # Location of the event (center of valve)\n",
    "        self.fade_time  = 0.01  # Fade is the proportion of fading from 0 no fade to 1 finished fading.\n",
    "        self.max_size  = 100  # Maximum size of event dot\n",
    "        self.min_size  = 1.5  # Minimum size of event dot\n",
    "\n",
    "\n",
    "    def update(self, time):\n",
    "        \"\"\"Update the fade in time of events. time is current time.\"\"\"\n",
    "        # If event is active: current time is after event happens but \n",
    "        # before it disappears of screen\n",
    "        # -----------------------------------------------------------\n",
    "        if (self.t <= time) & (self.t + self.fade_time >= time ):\n",
    "            self.fade = 1 - (time - self.t)/self.fade_time  # evolve fade\n",
    "            \n",
    "            self.set_color()\n",
    "            self.set_size()\n",
    "        \n",
    "        # Otherwise\n",
    "        # ---------\n",
    "        else:\n",
    "            self.fade = 0\n",
    "            \n",
    "            self.set_size()\n",
    "            self.set_color()\n",
    "            \n",
    "    \n",
    "    def set_size(self):\n",
    "        \"\"\"Compute size of event dot, function of its fade\"\"\"\n",
    "        self.size = self.min_size + (self.max_size - self.min_size)*self.fade**3\n",
    "    \n",
    "    def set_color(self):\n",
    "        \"\"\"Compute color of event, function of its fade\"\"\"\n",
    "        self.color = 0.5 + self.fade*0.5\n",
    "\n",
    "def build_events(t_events, x_events, width_v):\n",
    "    \"\"\"\n",
    "    Build an array of events. For now width should be the same for all valves (events).\n",
    "    \n",
    "    Parameters\n",
    "    ----------\n",
    "    t_events : 1d array\n",
    "        Times of events.\n",
    "    x_events : 1d array.\n",
    "        Location of events.\n",
    "    width_v : float\n",
    "        Valve width.\n",
    "    \n",
    "    Returns\n",
    "    -------\n",
    "    Events : list of event objects\n",
    "    \"\"\"\n",
    "    Events = []\n",
    "    for t, x in zip(t_events, x_events):\n",
    "        ev = event(t, x, width_v)\n",
    "        Events.append(ev)\n",
    "    \n",
    "    return Events"
   ]
  },
  {
   "cell_type": "markdown",
   "metadata": {},
   "source": [
    "## /// A function to initialize background"
   ]
  },
  {
   "cell_type": "code",
   "execution_count": 10,
   "metadata": {
    "code_folding": [
     0
    ]
   },
   "outputs": [],
   "source": [
    "# Useful functions for the animation\n",
    "# ==================================\n",
    "\n",
    "def scale_mass(mass, plot_params):\n",
    "    \"\"\" Scales mass with logistic curve: see larger scale rather than peaks \"\"\"\n",
    "    mass_sc = plot_params['sc_mass'] / (1 + np.exp(-1 * 3e6 * mass))\n",
    "    \n",
    "    return mass_sc\n",
    "\n",
    "def droplet(x0, y0, a, b):\n",
    "    \"\"\"\n",
    "    Draws a droplet using Longchamps piriforms\n",
    "    https://math.stackexchange.com/questions/51539/a-math-function-that-draws-water-droplet-shape\n",
    "    \n",
    "    Parameters\n",
    "    ----------\n",
    "    x0, y0 : float\n",
    "        Reference coordinates for the droplet. \n",
    "    a, b : float\n",
    "        Parameters for the aspect of the droplet.\n",
    "    Returns\n",
    "    -------\n",
    "    x_drop, y_drop : 1d arrays\n",
    "        Coordinates for the drop shape. Dimension = 50.\n",
    "    \"\"\"\n",
    "    \n",
    "    t = np.linspace(0, 2*np.pi, num=50)\n",
    "    x_drop = a*(1-np.sin(t))*np.cos(t) + x0\n",
    "    y_drop = y0 - b*(np.sin(t)-1)  # for our plot, y is upside down\n",
    "    \n",
    "    return x_drop, y_drop"
   ]
  },
  {
   "cell_type": "code",
   "execution_count": 11,
   "metadata": {
    "code_folding": [
     0
    ]
   },
   "outputs": [],
   "source": [
    "def background(X, mass0, Valves, plot_params, PARAM, VALVES):\n",
    "    \"\"\"\n",
    "    Function to initialize animation background.\n",
    "    \n",
    "    Parameters\n",
    "    ----------\n",
    "    X : 1d array\n",
    "        Space array, dimension PARAM['Nx'] + 1\n",
    "    mass0 : 1d array\n",
    "        Mass of fluid at every point of the domain at t0, dimension PARAM['Nx'] + 1\n",
    "    Valves : list of valve objects\n",
    "        Valve objects created before initializing.\n",
    "    plot_params : dict\n",
    "        Parameters for plotting.\n",
    "    PARAM : dict.\n",
    "        Dictionnary of physical and numerical parameters.\n",
    "    VALVES : dict.\n",
    "        Dictionnary of valve parameters.\n",
    "    \n",
    "    Returns\n",
    "    -------\n",
    "    fig : Matplotlib figure object\n",
    "        The current figure.\n",
    "    axes : list of matplotlib axes.\n",
    "        Events and domain axes objects.\n",
    "    g_objs : list of graphical objects\n",
    "        PolyCollection for the fluid, PatchCollection for the valves.\n",
    "    \"\"\"\n",
    "    \n",
    "    # Initialize figure\n",
    "    # =================\n",
    "    fig = plt.figure(figsize=(8,6))\n",
    "    gs = fig.add_gridspec(5,1)\n",
    "    plt.subplots_adjust(hspace=0.05)\n",
    "\n",
    "\n",
    "    fig.set_facecolor(plot_params['c_bg'])\n",
    "    \n",
    "    fig.suptitle('-- Drawing patterns --\\n Swarms of seismic events in a subduction channel generated\\n by the interplay of fluid diffusion and fault strength',\n",
    "                 c=plot_params['c_ax'], y=0.99)\n",
    "    \n",
    "    # Events subplot\n",
    "    # -------------\n",
    "    ax_ev = fig.add_subplot(gs[:3,:])\n",
    "    \n",
    "    # --> Set colors of background and axes\n",
    "    ax_ev.patch.set_color(plot_params['c_bg'])\n",
    "    ax_ev.spines['left'].set_color(plot_params['c_ax'])\n",
    "    ax_ev.spines['bottom'].set_visible(False)\n",
    "    \n",
    "    # --> Set up y axis ticks and labels: first deal with units\n",
    "    week = 7 * 24 * 3600  # week duration in seconds\n",
    "    day = 24 * 3600  # days duration in seconds\n",
    "        \n",
    "    T_tot = PARAM['Nt']*PARAM['dt']  # total duration of data\n",
    "    dt_week = week / PARAM['T_scale'] # week length in adimensionalized unit\n",
    "    dt_day = day / PARAM['T_scale'] # day length in adimensionalized unit\n",
    "        \n",
    "    # -->> Major ticks and labels\n",
    "    T_ticks_weeks = np.arange(0, T_tot, dt_week)  # tick locations\n",
    "    T_ticklabels_weeks = [str(int(t*PARAM['T_scale']/week)) \n",
    "                          for t in T_ticks_weeks]  # tick labels\n",
    "    \n",
    "    ax_ev.yaxis.set_major_locator(FixedLocator(T_ticks_weeks))\n",
    "    ax_ev.yaxis.set_major_formatter(FixedFormatter((T_ticklabels_weeks)))\n",
    "    \n",
    "    ax_ev.tick_params(length=7, which='major')\n",
    "       \n",
    "    # -->> Minor ticks, no labels\n",
    "    T_ticks_days = np.arange(0, T_tot, dt_day)  # tick locations\n",
    "    \n",
    "    ax_ev.yaxis.set_minor_locator(FixedLocator(T_ticks_days))\n",
    "    \n",
    "    ax_ev.tick_params(length=3, which='minor')\n",
    "\n",
    "    # -->> A few more tick parameters\n",
    "    ax_ev.tick_params(bottom=False,labelbottom=False,\n",
    "                      left=True,labelleft=True,\n",
    "                      colors=plot_params['c_ax'], which='both')\n",
    "    \n",
    "    ax_ev.grid(lw=0.8, c=[0.15, 0.15, 0.15], zorder=0, which='both')\n",
    "\n",
    "    # --> Axes labels and limits\n",
    "    ax_ev.set_ylabel('Event detection\\n time (weeks)',\n",
    "                     c=plot_params['c_ax'], size=plot_params['label_fs'])\n",
    "    ax_ev.set_ylim(plot_params['t_lim'])\n",
    "    ax_ev.set_xlim(plot_params['x_lim'])\n",
    "\n",
    "    # Domain subplot\n",
    "    # --------------\n",
    "    ax_dom = fig.add_subplot(gs[3:,:])\n",
    "    \n",
    "    # --> Set axes and ticks\n",
    "    ax_dom.patch.set_color(plot_params['c_bg'])\n",
    "    ax_dom.spines['bottom'].set_color(plot_params['c_ax'])\n",
    "    ax_dom.spines['left'].set_color(plot_params['c_ax'])\n",
    "    ax_dom.spines['right'].set_visible('False')\n",
    "    ax_dom.spines['top'].set_visible('False')\n",
    "    \n",
    "    # --> x/y axes parameters\n",
    "    ax_dom.tick_params(left=True, labelleft=True,\n",
    "                       colors=plot_params['c_ax'])\n",
    "    \n",
    "    ax_dom.set_xlim(plot_params['x_lim'])\n",
    "    ax_dom.set_ylim(plot_params['z_lim'])\n",
    "    \n",
    "    ax_dom.set_xlabel('<-- Downdip / Along subduction channel (km) / Updip -->', \n",
    "                      c=plot_params['c_ax'], size=plot_params['label_fs'])\n",
    "    ax_dom.set_ylabel('Depth (km)', \n",
    "                      c=plot_params['c_ax'], size = plot_params['label_fs'])\n",
    "    \n",
    "    # --> Plot fluid mass\n",
    "    mass_sc = scale_mass(mass0, plot_params)  # emphasizing longer scale variations\n",
    "    mass_plus = plot_params['Z_mass'] + mass_sc  # above curve\n",
    "    mass_minus = plot_params['Z_mass'] - mass_sc  # below curve\n",
    "    pc_dom = ax_dom.fill_between(X, mass_minus, mass_plus, \n",
    "                                 fc=plot_params['c_mass'], zorder=1)\n",
    "\n",
    "    # --> In/out flux arrows and droplets\n",
    "    arrowprops = dict(arrowstyle=\"->\", fc=plot_params['c_mass'], \\\n",
    "                      ec=plot_params['c_mass'])\n",
    "    ax_dom.annotate(\"\", xytext=(-0.09, 1.09), xy=(-0.01, 1.01), \\\n",
    "                    arrowprops=arrowprops)\n",
    "    ax_dom.annotate(\"\", xytext=(1.01,-.01), xy=(1.09, -0.09), \\\n",
    "                    arrowprops=arrowprops)\n",
    "    \n",
    "    x_drop1, y_drop1 = droplet(-0.06, 0.93, 0.005, 0.04)\n",
    "    x_drop2, y_drop2 = droplet(1.05, 0, 0.005, 0.04)\n",
    "\n",
    "    ax_dom.plot(x_drop1, y_drop1, '-', lw=1, c=plot_params['c_mass'])\n",
    "    ax_dom.plot(x_drop2, y_drop2, '-', lw=1, c=plot_params['c_mass'])\n",
    "    \n",
    "    # --> Plot valves\n",
    "    valve_boxes = [Rectangle( (xv, plot_params['z_lim'][0]), wv,\n",
    "                              plot_params['z_lim'][1]-plot_params['z_lim'][0])\n",
    "                   for xv, wv in zip(X[VALVES['idx']], VALVES['width'])]\n",
    "    \n",
    "    valves_ptc = PatchCollection(valve_boxes, alpha=1, edgecolor=None,\n",
    "                                 axes=ax_dom,zorder=0)\n",
    "    valves_ptc.set_facecolor([plot_params['c_v'](v.color) \n",
    "                              for v in Valves])\n",
    "    \n",
    "    ax_dom.add_collection(valves_ptc)\n",
    "    \n",
    "    # --> Change ticks to dimensionnalized values\n",
    "    X_ticks = np.array([0, 0.2, 0.4, 0.6, 0.8, 1]) # here pretty straight forward\n",
    "    \n",
    "    ax_dom.set_xticks(X_ticks)\n",
    "    ax_dom.set_xticklabels([str(int(x*PARAM['X_scale']/1000)) \n",
    "                            for x in X_ticks])\n",
    "    \n",
    "    Z_ticks = np.array([40, 41, 42, 43])*1000 / PARAM['Z_scale'] - PARAM['Z0']\n",
    "    ax_dom.set_yticks(Z_ticks)\n",
    "    ax_dom.set_yticklabels(['40', '41', '42', '43'])\n",
    "    \n",
    "    # Pack up objects for handling later on\n",
    "    # -------------------------------------\n",
    "    axes  = [ax_ev, ax_dom]\n",
    "    gobjs = [pc_dom, valves_ptc]\n",
    "    \n",
    "    return fig, axes, gobjs"
   ]
  },
  {
   "cell_type": "markdown",
   "metadata": {},
   "source": [
    "## /// Functions to update context"
   ]
  },
  {
   "cell_type": "markdown",
   "metadata": {},
   "source": [
    "### *(a)* A function to update events"
   ]
  },
  {
   "cell_type": "code",
   "execution_count": 12,
   "metadata": {
    "code_folding": [
     0
    ]
   },
   "outputs": [],
   "source": [
    "def update_events(time, Events, t_lim):\n",
    "    \"\"\"\n",
    "    A function to get active events and update their fade.\n",
    "    \n",
    "    Parameters\n",
    "    ----------\n",
    "    time : float\n",
    "        Current time.\n",
    "    Events : list of event objects\n",
    "        The events to update.\n",
    "    t_lim : float\n",
    "        Current top limit of event graph.\n",
    "    \n",
    "    Returns\n",
    "    -------\n",
    "    active_ev : list\n",
    "        List of currently active events, that is, events that happened and\n",
    "        are still within plotting bounds.\n",
    "    \"\"\"\n",
    "    # Get active events\n",
    "    # -----------------\n",
    "    active_ev = [ev for ev in Events \n",
    "                 if ((ev.t < time) & (ev.t > t_lim))]\n",
    "    \n",
    "    # Update fade of active events\n",
    "    # ----------------------------\n",
    "    for ev in active_ev:\n",
    "        ev.update(time)\n",
    "    \n",
    "    return active_ev"
   ]
  },
  {
   "cell_type": "markdown",
   "metadata": {},
   "source": [
    "### *(b)* A function to update valves"
   ]
  },
  {
   "cell_type": "code",
   "execution_count": 13,
   "metadata": {
    "code_folding": [
     0
    ]
   },
   "outputs": [],
   "source": [
    "def update_valves(it, previous, v_states, Valves):\n",
    "    \"\"\"\n",
    "    Update valve states and dP at t=time\n",
    "    \n",
    "    Parameters\n",
    "    ----------\n",
    "    it : float\n",
    "        Current time index.\n",
    "    previous : float\n",
    "        Previous time\n",
    "    v_activity : 3d array\n",
    "        Valve activity from the data. Describes valve activity.\n",
    "    Valves : list of valve objects\n",
    "        Current valves.\n",
    "\n",
    "    \n",
    "    Returns\n",
    "    -------\n",
    "    Valves : list of valve objects\n",
    "        Updated valve objects.\n",
    "    \"\"\"\n",
    "    # --> Unpack\n",
    "    itp  = it - 1  # index of previous time\n",
    "    \n",
    "    # --> Update\n",
    "    for iv, va in enumerate(Valves):\n",
    "        # --> If it was breaking previously, it's not now\n",
    "        if va.breaking:\n",
    "            va.breaking = False\n",
    "        \n",
    "        # -->> Update valve state and check if breaking\n",
    "        va.open = bool(v_states[it, iv])\n",
    "        # -->>> Breaking = previous = 0 (closed), current = 1 (open)\n",
    "        if (v_states[it-1, iv] - v_states[it, iv]) == -1:\n",
    "            va.breaking = True\n",
    "        \n",
    "        # -->> Update color\n",
    "        va.set_color()\n",
    "    \n",
    "    return Valves"
   ]
  },
  {
   "cell_type": "markdown",
   "metadata": {},
   "source": [
    "## /// A function to update the plots "
   ]
  },
  {
   "cell_type": "code",
   "execution_count": 14,
   "metadata": {
    "code_folding": [
     0
    ]
   },
   "outputs": [],
   "source": [
    "def update_anim(time, Valves, active_ev, X, mass, fig, axes, valves_ptc, plot_params):\n",
    "    \"\"\"\n",
    "    Update the plots for the current time\n",
    "    \n",
    "    Parameters\n",
    "    ----------\n",
    "    time : float\n",
    "        Current time.\n",
    "    Valves : list of valve objects\n",
    "        Valve objects created before initializing. Output of update_valves.\n",
    "    active_ev : list of event objects\n",
    "        Current active objects. Output of update_events.\n",
    "    X : 1d array\n",
    "        Space array, dimension PARAM['Nx'] + 1\n",
    "    mass : 1d array\n",
    "        Mass of fluid at every point of the domain at time t, dimension PARAM['Nx'] + 1\n",
    "    fig : Matplotlib figure object\n",
    "        Current figure.\n",
    "    axes : list of matplotlib axes.\n",
    "        Events and domain axes objects.\n",
    "    valves_ptc\n",
    "    \n",
    "    Returns\n",
    "    -------\n",
    "    fig : Matplotlib figure object\n",
    "        The current figure.\n",
    "    axes : list of matplotlib axes.\n",
    "        Events and domain axes objects.\n",
    "    valves_ptc, pc_ev, pc_dom : graphical objects\n",
    "        PatchCollection for the valves, PathCollection for the events, PolyCollection for the fluid\n",
    "    \"\"\"\n",
    "    \n",
    "    # --> Unpack\n",
    "    ax_ev, ax_dom = axes\n",
    "    \n",
    "    # Update events plot\n",
    "    # ------------------\n",
    "    # --> Update plot limits\n",
    "    ax_ev.set_ylim(time + plot_params['t_fact'] * plot_params['dt_lim'],\n",
    "                   time - (1 - plot_params['t_fact']) * plot_params['dt_lim'])\n",
    "    \n",
    "    # --> Plot current events\n",
    "    ev_x = [ev.x for ev in active_ev]\n",
    "    ev_t = [ev.t for ev in active_ev]\n",
    "    ev_s = [ev.size for ev in active_ev]\n",
    "    ev_c = [plot_params['c_ev'](ev.color) for ev in active_ev]\n",
    "    pc_ev = ax_ev.scatter(ev_x, ev_t, s=ev_s, c=ev_c, \n",
    "                          edgecolors='face', zorder=10)\n",
    "    \n",
    "    # Update domain plot\n",
    "    # ------------------\n",
    "    # --> Update barriers\n",
    "    v_fc = [plot_params['c_v'](va.color) for va in Valves]\n",
    "    valves_ptc.set_facecolor(v_fc)\n",
    "    \n",
    "    # --> Update flux\n",
    "    mass_sc = scale_mass(mass, plot_params)\n",
    "    mass_plus = plot_params['Z_mass'] + mass_sc\n",
    "    mass_minus = plot_params['Z_mass'] - mass_sc\n",
    "    pc_dom = ax_dom.fill_between(X, mass_minus, mass_plus, \n",
    "                                 fc=plot_params['c_mass'], zorder=1)\n",
    "\n",
    "    return fig, axes, valves_ptc, pc_ev, pc_dom"
   ]
  },
  {
   "cell_type": "markdown",
   "metadata": {},
   "source": [
    "## /// Set plot parameters"
   ]
  },
  {
   "cell_type": "code",
   "execution_count": 15,
   "metadata": {
    "code_folding": [
     0
    ]
   },
   "outputs": [],
   "source": [
    "# Choosing plot parameters \n",
    "# ========================\n",
    "plot_params = {}\n",
    "\n",
    "# Mass related properties\n",
    "# -----------------------\n",
    "plot_params['Z_mass']  = np.linspace(1, 0, num=len(X))\n",
    "plot_params['sc_mass'] = 0.1\n",
    "\n",
    "# Plot colors\n",
    "# -----------\n",
    "plot_params['c_bg'] = 'k'\n",
    "plot_params['c_ax'] = 'w'\n",
    "plot_params['c_v']  = plt.cm.gray\n",
    "plot_params['c_ev'] = plt.cm.afmhot\n",
    "plot_params['c_mass'] = 'aquamarine'\n",
    "\n",
    "# Limits\n",
    "# -------\n",
    "plot_params['v_h'] =  0.2 # valve patch height\n",
    "plot_params['x_lim']  = (-0.1, 1.1)\n",
    "plot_params['z_lim']  = (plot_params['Z_mass'][0]*1.15, plot_params['Z_mass'][-1]-0.15)\n",
    "plot_params['dt_lim'] = 0.012\n",
    "plot_params['t_fact'] = 0.05  # proportion of axes where events appear\n",
    "plot_params['t_lim']  = (0 + plot_params['dt_lim']*plot_params['t_fact'],\n",
    "                         0 - plot_params['dt_lim']*(1 - plot_params['t_fact']))\n",
    "\n",
    "# Fontsizes\n",
    "# ---------\n",
    "plot_params['label_fs'] = 13"
   ]
  },
  {
   "cell_type": "markdown",
   "metadata": {},
   "source": [
    "## /// Set animation parameters"
   ]
  },
  {
   "cell_type": "code",
   "execution_count": 16,
   "metadata": {
    "code_folding": [
     0
    ],
    "scrolled": true
   },
   "outputs": [
    {
     "name": "stdout",
     "output_type": "stream",
     "text": [
      "Animation 1521 frames long, for a total duration of 63.38 s\n",
      "--> Fast action: 24.04\n",
      "--> Slow action: 39.33\n"
     ]
    }
   ],
   "source": [
    "# Animation parameters \n",
    "# ====================\n",
    "animname = 'fluid_swarms.switch.test'\n",
    "dpi = 200\n",
    "\n",
    "# Choose either a period to cover or a target_time\n",
    "# ------------------------------------------------\n",
    "t0 = 0.43  # time at which to start\n",
    "t1 = 0.534  # time at which to switch to slow spee\n",
    "tn = 0.5812 # end time of animation\n",
    "\n",
    "period_fast = t1 - t0\n",
    "period_slow = tn - t1\n",
    "\n",
    "fps = 24\n",
    "frame_dt_slow = .00005  # slow.short\n",
    "frame_dt_fast = .00018   # fast.short\n",
    "\n",
    "N_frames_fast = int(period_fast / frame_dt_fast)\n",
    "N_frames_slow = int(period_slow / frame_dt_slow)\n",
    "N_frames = N_frames_slow + N_frames_fast\n",
    "target_duration = N_frames / fps\n",
    "print('Animation {:} frames long, for a total duration of {:.2f} s'.format(N_frames, target_duration))\n",
    "print('--> Fast action: {:.2f}'.format(N_frames_fast/fps))\n",
    "print('--> Slow action: {:.2f}'.format(N_frames_slow/fps))\n",
    "\n",
    "# Writer set up\n",
    "# -------------\n",
    "anim_filename = anim_out_dir + animname +'.mp4'\n",
    "metadata = dict(title='Movie Test', artist='Matplotlib',comment='Movie support!')                                                                                   \n",
    "writer = animation.FFMpegWriter(fps=fps, bitrate=1e9)"
   ]
  },
  {
   "cell_type": "markdown",
   "metadata": {},
   "source": [
    "## /// Animate"
   ]
  },
  {
   "cell_type": "code",
   "execution_count": 17,
   "metadata": {
    "code_folding": [
     0
    ],
    "scrolled": false
   },
   "outputs": [
    {
     "name": "stdout",
     "output_type": "stream",
     "text": [
      "Writing frames...\n",
      "Done!\n",
      "\n"
     ]
    }
   ],
   "source": [
    "# Initialize \n",
    "# ==========\n",
    "# Get minimal value of M in animation range, set it to 0\n",
    "# ------------------------------------------------------\n",
    "\n",
    "# Build objects\n",
    "# -------------\n",
    "Valves = build_valves(VALVES, v_states[0, :], PARAM)\n",
    "Events = build_events(t_events, x_events, VALVES['width'][0])\n",
    "\n",
    "# Plot background\n",
    "# ---------------\n",
    "plt.close()\n",
    "mpl.use('Agg')\n",
    "\n",
    "fig, axes, gobjs = background(X, mass[0, :], Valves, plot_params, PARAM, VALVES)\n",
    "axes[1].collections.remove(gobjs[0])\n",
    "valves_ptc = gobjs[1]\n",
    "\n",
    "frame_dt = frame_dt_fast  # start with fast action\n",
    "ti = t0\n",
    "switch = True\n",
    "\n",
    "indices_out = []\n",
    "# Animation loop\n",
    "# ==============\n",
    "with writer.saving(fig, anim_filename, dpi):\n",
    "    print('Writing frames...')\n",
    "    for ii in range(1, N_frames):\n",
    "        # The current time is...\n",
    "        # ----------------------\n",
    "        time = ti + ii * frame_dt\n",
    "        previous = ti + (ii-1) * frame_dt\n",
    "        \n",
    "        #indices_out.append(int(time/PARAM['dt_']))  # gather indices to produce data easier to manipulate\n",
    "        \n",
    "        if (time > t1) and switch:  # transition to slow action\n",
    "            frame_dt = frame_dt_slow\n",
    "            ti = time - (ii * frame_dt_slow)\n",
    "            switch = False\n",
    "        \n",
    "        # Update the events and valves\n",
    "        # ----------------------------\n",
    "        active_ev = update_events(time, Events, time - plot_params['dt_lim'])\n",
    "        Valves    = update_valves(ii, previous, v_states, Valves)\n",
    "    \n",
    "        # Update the plot\n",
    "        # ---------------\n",
    "        fig, axes, valves_ptc, ev_coll, M_coll = update_anim(time, Valves, active_ev, X,\n",
    "                                                             mass[ii, :],\n",
    "                                                             fig, axes, valves_ptc, plot_params)\n",
    "    \n",
    "        # Grab the frame\n",
    "        # --------------\n",
    "        writer.grab_frame(facecolor='k')\n",
    "    \n",
    "        # Delete the past events\n",
    "        # ----------------------\n",
    "        axes[0].collections.remove(ev_coll)\n",
    "        axes[1].collections.remove(M_coll)\n",
    "\n",
    "print('Done!\\n')\n",
    "plt.close()"
   ]
  },
  {
   "cell_type": "code",
   "execution_count": null,
   "metadata": {
    "code_folding": [
     0
    ],
    "scrolled": false
   },
   "outputs": [],
   "source": [
    "# Show \n",
    "# ----\n",
    "video = io.open(anim_filename, 'r+b').read()\n",
    "encoded = base64.b64encode(video)\n",
    "HTML(data='''<video width=\"800\" height=\"800\" controls>\n",
    "                <source src=\"data:video/mp4;base64,{0}\" type=\"video/mp4\" />\n",
    "             </video>'''.format(encoded.decode('ascii')))"
   ]
  }
 ],
 "metadata": {
  "kernelspec": {
   "display_name": "Python 3",
   "language": "python",
   "name": "python3"
  },
  "language_info": {
   "codemirror_mode": {
    "name": "ipython",
    "version": 3
   },
   "file_extension": ".py",
   "mimetype": "text/x-python",
   "name": "python",
   "nbconvert_exporter": "python",
   "pygments_lexer": "ipython3",
   "version": "3.8.3"
  }
 },
 "nbformat": 4,
 "nbformat_minor": 4
}
